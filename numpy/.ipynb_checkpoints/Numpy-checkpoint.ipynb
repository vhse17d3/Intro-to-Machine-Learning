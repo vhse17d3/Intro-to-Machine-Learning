{
 "cells": [
  {
   "cell_type": "code",
   "execution_count": 1,
   "id": "b052b40f",
   "metadata": {},
   "outputs": [],
   "source": [
    "import numpy as np "
   ]
  },
  {
   "cell_type": "markdown",
   "id": "44df0c96",
   "metadata": {},
   "source": [
    "# creating numpy arrays from python lists"
   ]
  },
  {
   "cell_type": "code",
   "execution_count": 2,
   "id": "3ecff52e",
   "metadata": {},
   "outputs": [
    {
     "data": {
      "text/plain": [
       "array([1, 2, 3, 4])"
      ]
     },
     "execution_count": 2,
     "metadata": {},
     "output_type": "execute_result"
    }
   ],
   "source": [
    "np.array([1,2,3,4])"
   ]
  },
  {
   "cell_type": "markdown",
   "id": "1474902b",
   "metadata": {},
   "source": [
    "[1,2,3,4]"
   ]
  },
  {
   "cell_type": "code",
   "execution_count": 3,
   "id": "79cb165a",
   "metadata": {},
   "outputs": [
    {
     "data": {
      "text/plain": [
       "array([1., 2., 3., 4.], dtype=float32)"
      ]
     },
     "execution_count": 3,
     "metadata": {},
     "output_type": "execute_result"
    }
   ],
   "source": [
    "np.array([1,2,3,4],dtype='float32')"
   ]
  },
  {
   "cell_type": "code",
   "execution_count": 4,
   "id": "8e8b4cb7",
   "metadata": {},
   "outputs": [],
   "source": [
    "a1=np.array([1,2,3,4])"
   ]
  },
  {
   "cell_type": "code",
   "execution_count": 5,
   "id": "db53a886",
   "metadata": {},
   "outputs": [
    {
     "data": {
      "text/plain": [
       "numpy.ndarray"
      ]
     },
     "execution_count": 5,
     "metadata": {},
     "output_type": "execute_result"
    }
   ],
   "source": [
    "type(a1)"
   ]
  },
  {
   "cell_type": "code",
   "execution_count": 6,
   "id": "6feaabf6",
   "metadata": {},
   "outputs": [],
   "source": [
    "a2=np.array([[1,2,3],[4,5,6]])"
   ]
  },
  {
   "cell_type": "code",
   "execution_count": 7,
   "id": "19fd4f02",
   "metadata": {},
   "outputs": [
    {
     "data": {
      "text/plain": [
       "numpy.ndarray"
      ]
     },
     "execution_count": 7,
     "metadata": {},
     "output_type": "execute_result"
    }
   ],
   "source": [
    "type(a2)"
   ]
  },
  {
   "cell_type": "markdown",
   "id": "00c9314e",
   "metadata": {},
   "source": [
    "xem số hàng và cột"
   ]
  },
  {
   "cell_type": "code",
   "execution_count": 8,
   "id": "ad5821d3",
   "metadata": {},
   "outputs": [
    {
     "data": {
      "text/plain": [
       "(2, 3)"
      ]
     },
     "execution_count": 8,
     "metadata": {},
     "output_type": "execute_result"
    }
   ],
   "source": [
    "a2.shape"
   ]
  },
  {
   "cell_type": "markdown",
   "id": "db776427",
   "metadata": {},
   "source": [
    "xem số chiều của mảng "
   ]
  },
  {
   "cell_type": "code",
   "execution_count": 9,
   "id": "e821122a",
   "metadata": {},
   "outputs": [
    {
     "data": {
      "text/plain": [
       "2"
      ]
     },
     "execution_count": 9,
     "metadata": {},
     "output_type": "execute_result"
    }
   ],
   "source": [
    "a2.ndim"
   ]
  },
  {
   "cell_type": "code",
   "execution_count": 10,
   "id": "b5aba589",
   "metadata": {},
   "outputs": [
    {
     "data": {
      "text/plain": [
       "dtype('int32')"
      ]
     },
     "execution_count": 10,
     "metadata": {},
     "output_type": "execute_result"
    }
   ],
   "source": [
    "a2.dtype"
   ]
  },
  {
   "cell_type": "markdown",
   "id": "b567cb25",
   "metadata": {},
   "source": [
    "xem số element trong mảng "
   ]
  },
  {
   "cell_type": "code",
   "execution_count": 11,
   "id": "ecebe13f",
   "metadata": {},
   "outputs": [
    {
     "data": {
      "text/plain": [
       "6"
      ]
     },
     "execution_count": 11,
     "metadata": {},
     "output_type": "execute_result"
    }
   ],
   "source": [
    "a2.size"
   ]
  },
  {
   "cell_type": "markdown",
   "id": "ffbed0d0",
   "metadata": {},
   "source": [
    "# creating numpy arrays from scratch\n",
    "zeros , ones , full , arange , linspace"
   ]
  },
  {
   "cell_type": "code",
   "execution_count": 12,
   "id": "ec302928",
   "metadata": {},
   "outputs": [
    {
     "data": {
      "text/plain": [
       "array([[0, 0, 0, 0],\n",
       "       [0, 0, 0, 0]])"
      ]
     },
     "execution_count": 12,
     "metadata": {},
     "output_type": "execute_result"
    }
   ],
   "source": [
    "np.zeros([2,4],dtype='int')"
   ]
  },
  {
   "cell_type": "code",
   "execution_count": 13,
   "id": "0def42c3",
   "metadata": {},
   "outputs": [
    {
     "data": {
      "text/plain": [
       "array([[1, 1, 1, 1, 1],\n",
       "       [1, 1, 1, 1, 1],\n",
       "       [1, 1, 1, 1, 1]])"
      ]
     },
     "execution_count": 13,
     "metadata": {},
     "output_type": "execute_result"
    }
   ],
   "source": [
    "np.ones([3,5],dtype='int')"
   ]
  },
  {
   "cell_type": "code",
   "execution_count": 14,
   "id": "20e7e255",
   "metadata": {},
   "outputs": [
    {
     "data": {
      "text/plain": [
       "array([ 0,  2,  4,  6,  8, 10, 12, 14, 16, 18])"
      ]
     },
     "execution_count": 14,
     "metadata": {},
     "output_type": "execute_result"
    }
   ],
   "source": [
    "np.arange(0,20,2) ## start , end , step"
   ]
  },
  {
   "cell_type": "code",
   "execution_count": 15,
   "id": "c5494287",
   "metadata": {},
   "outputs": [
    {
     "data": {
      "text/plain": [
       "array([[6.9, 6.9, 6.9, 6.9, 6.9],\n",
       "       [6.9, 6.9, 6.9, 6.9, 6.9],\n",
       "       [6.9, 6.9, 6.9, 6.9, 6.9]])"
      ]
     },
     "execution_count": 15,
     "metadata": {},
     "output_type": "execute_result"
    }
   ],
   "source": [
    "np.full([3,5],6.9)"
   ]
  },
  {
   "cell_type": "code",
   "execution_count": 16,
   "id": "466986bb",
   "metadata": {},
   "outputs": [
    {
     "data": {
      "text/plain": [
       "array([0.  , 0.25, 0.5 , 0.75, 1.  ])"
      ]
     },
     "execution_count": 16,
     "metadata": {},
     "output_type": "execute_result"
    }
   ],
   "source": [
    "np.linspace(0,1,5)"
   ]
  },
  {
   "cell_type": "markdown",
   "id": "50ee8150",
   "metadata": {},
   "source": [
    "# random "
   ]
  },
  {
   "cell_type": "code",
   "execution_count": 17,
   "id": "9a9a7895",
   "metadata": {},
   "outputs": [
    {
     "data": {
      "text/plain": [
       "array([[0.81065766, 0.95124369, 0.13032638, 0.14912277],\n",
       "       [0.96513388, 0.51648371, 0.99264439, 0.33881989],\n",
       "       [0.19559505, 0.25869905, 0.69184722, 0.2223154 ],\n",
       "       [0.12440615, 0.03420737, 0.69303612, 0.87254867]])"
      ]
     },
     "execution_count": 17,
     "metadata": {},
     "output_type": "execute_result"
    }
   ],
   "source": [
    "np.random.random((4,4))"
   ]
  },
  {
   "cell_type": "code",
   "execution_count": 18,
   "id": "9de2cca5",
   "metadata": {},
   "outputs": [
    {
     "data": {
      "text/plain": [
       "array([[0.5488135 , 0.71518937, 0.60276338, 0.54488318],\n",
       "       [0.4236548 , 0.64589411, 0.43758721, 0.891773  ],\n",
       "       [0.96366276, 0.38344152, 0.79172504, 0.52889492],\n",
       "       [0.56804456, 0.92559664, 0.07103606, 0.0871293 ]])"
      ]
     },
     "execution_count": 18,
     "metadata": {},
     "output_type": "execute_result"
    }
   ],
   "source": [
    "np.random.seed(0)\n",
    "np.random.random((4,4)) ## giữ nguyên giá trị random"
   ]
  },
  {
   "cell_type": "code",
   "execution_count": 19,
   "id": "87cacda7",
   "metadata": {},
   "outputs": [
    {
     "data": {
      "text/plain": [
       "array([[ 0.44386323,  0.33367433,  1.49407907],\n",
       "       [-0.20515826,  0.3130677 , -0.85409574],\n",
       "       [-2.55298982,  0.6536186 ,  0.8644362 ]])"
      ]
     },
     "execution_count": 19,
     "metadata": {},
     "output_type": "execute_result"
    }
   ],
   "source": [
    "np.random.normal(0,1,[3,3]) # mean , độ lệch chuẩn , kích thước"
   ]
  },
  {
   "cell_type": "code",
   "execution_count": 20,
   "id": "de3f9a5e",
   "metadata": {},
   "outputs": [
    {
     "data": {
      "text/plain": [
       "array([[7, 2, 0, 0, 4],\n",
       "       [5, 5, 6, 8, 4],\n",
       "       [1, 4, 9, 8, 1],\n",
       "       [1, 7, 9, 9, 3]])"
      ]
     },
     "execution_count": 20,
     "metadata": {},
     "output_type": "execute_result"
    }
   ],
   "source": [
    "np.random.randint(0,10,[4,5])"
   ]
  },
  {
   "cell_type": "markdown",
   "id": "ef360d8c",
   "metadata": {},
   "source": [
    "# array indexing and slicing \n",
    "one-dimentional subarray"
   ]
  },
  {
   "cell_type": "code",
   "execution_count": 21,
   "id": "62676696",
   "metadata": {},
   "outputs": [],
   "source": [
    "x1=np.random.randint(20,size=6)"
   ]
  },
  {
   "cell_type": "code",
   "execution_count": 22,
   "id": "9a0d3ec2",
   "metadata": {},
   "outputs": [
    {
     "data": {
      "text/plain": [
       "array([ 6, 11, 14, 18,  0, 14])"
      ]
     },
     "execution_count": 22,
     "metadata": {},
     "output_type": "execute_result"
    }
   ],
   "source": [
    "x1"
   ]
  },
  {
   "cell_type": "code",
   "execution_count": 23,
   "id": "ce6213ee",
   "metadata": {},
   "outputs": [
    {
     "data": {
      "text/plain": [
       "(0, 6, 14)"
      ]
     },
     "execution_count": 23,
     "metadata": {},
     "output_type": "execute_result"
    }
   ],
   "source": [
    "x1[4],x1[0],x1[-1]"
   ]
  },
  {
   "cell_type": "markdown",
   "id": "212463d2",
   "metadata": {},
   "source": [
    "Multi-dimentional array"
   ]
  },
  {
   "cell_type": "code",
   "execution_count": 24,
   "id": "e067589a",
   "metadata": {},
   "outputs": [],
   "source": [
    "x2=np.random.randint(10,size=[3,4])"
   ]
  },
  {
   "cell_type": "code",
   "execution_count": 25,
   "id": "ac427ce9",
   "metadata": {},
   "outputs": [
    {
     "data": {
      "text/plain": [
       "array([[3, 5, 9, 4],\n",
       "       [4, 6, 4, 4],\n",
       "       [3, 4, 4, 8]])"
      ]
     },
     "execution_count": 25,
     "metadata": {},
     "output_type": "execute_result"
    }
   ],
   "source": [
    "x2"
   ]
  },
  {
   "cell_type": "code",
   "execution_count": 26,
   "id": "0eef5846",
   "metadata": {},
   "outputs": [
    {
     "data": {
      "text/plain": [
       "(4, 4, 6)"
      ]
     },
     "execution_count": 26,
     "metadata": {},
     "output_type": "execute_result"
    }
   ],
   "source": [
    "x2[1,3],x2[1,2],x2[1,1]"
   ]
  },
  {
   "cell_type": "markdown",
   "id": "c7a2ab56",
   "metadata": {},
   "source": [
    "Slicing:\n",
    "X[start:stop:step]"
   ]
  },
  {
   "cell_type": "code",
   "execution_count": 27,
   "id": "0d5afc00",
   "metadata": {},
   "outputs": [
    {
     "data": {
      "text/plain": [
       "array([ 6, 11, 14, 18,  0, 14])"
      ]
     },
     "execution_count": 27,
     "metadata": {},
     "output_type": "execute_result"
    }
   ],
   "source": [
    "x1"
   ]
  },
  {
   "cell_type": "code",
   "execution_count": 28,
   "id": "970ccc2e",
   "metadata": {},
   "outputs": [
    {
     "data": {
      "text/plain": [
       "array([ 6, 11, 14])"
      ]
     },
     "execution_count": 28,
     "metadata": {},
     "output_type": "execute_result"
    }
   ],
   "source": [
    "x1[0:3]"
   ]
  },
  {
   "cell_type": "code",
   "execution_count": 29,
   "id": "365c2aec",
   "metadata": {},
   "outputs": [
    {
     "data": {
      "text/plain": [
       "array([[3, 5, 9, 4],\n",
       "       [4, 6, 4, 4],\n",
       "       [3, 4, 4, 8]])"
      ]
     },
     "execution_count": 29,
     "metadata": {},
     "output_type": "execute_result"
    }
   ],
   "source": [
    "x2"
   ]
  },
  {
   "cell_type": "code",
   "execution_count": 30,
   "id": "faab8950",
   "metadata": {},
   "outputs": [
    {
     "data": {
      "text/plain": [
       "array([[5, 9],\n",
       "       [6, 4]])"
      ]
     },
     "execution_count": 30,
     "metadata": {},
     "output_type": "execute_result"
    }
   ],
   "source": [
    "x2[0:2,1:3]"
   ]
  },
  {
   "cell_type": "markdown",
   "id": "4b6962d4",
   "metadata": {},
   "source": [
    "# reshaping of array and transpose"
   ]
  },
  {
   "cell_type": "code",
   "execution_count": 31,
   "id": "16681657",
   "metadata": {},
   "outputs": [
    {
     "data": {
      "text/plain": [
       "(6,)"
      ]
     },
     "execution_count": 31,
     "metadata": {},
     "output_type": "execute_result"
    }
   ],
   "source": [
    "x1=np.array([1,2,3,4,5,6])\n",
    "x1.shape"
   ]
  },
  {
   "cell_type": "code",
   "execution_count": 32,
   "id": "8060253a",
   "metadata": {},
   "outputs": [
    {
     "data": {
      "text/plain": [
       "array([[1, 2, 3],\n",
       "       [4, 5, 6]])"
      ]
     },
     "execution_count": 32,
     "metadata": {},
     "output_type": "execute_result"
    }
   ],
   "source": [
    "x1.reshape(2,3)"
   ]
  },
  {
   "cell_type": "code",
   "execution_count": 33,
   "id": "d9b853e3",
   "metadata": {},
   "outputs": [
    {
     "data": {
      "text/plain": [
       "array([[3, 5, 9, 4],\n",
       "       [4, 6, 4, 4],\n",
       "       [3, 4, 4, 8]])"
      ]
     },
     "execution_count": 33,
     "metadata": {},
     "output_type": "execute_result"
    }
   ],
   "source": [
    "x2"
   ]
  },
  {
   "cell_type": "code",
   "execution_count": 34,
   "id": "b0d42d52",
   "metadata": {},
   "outputs": [
    {
     "data": {
      "text/plain": [
       "array([[3, 4, 3],\n",
       "       [5, 6, 4],\n",
       "       [9, 4, 4],\n",
       "       [4, 4, 8]])"
      ]
     },
     "execution_count": 34,
     "metadata": {},
     "output_type": "execute_result"
    }
   ],
   "source": [
    "x2.T"
   ]
  },
  {
   "cell_type": "markdown",
   "id": "99e42121",
   "metadata": {},
   "source": [
    "# Array concatenation and splitting"
   ]
  },
  {
   "cell_type": "code",
   "execution_count": 35,
   "id": "22a72903",
   "metadata": {},
   "outputs": [
    {
     "data": {
      "text/plain": [
       "array([1, 2, 3, 4, 5, 6])"
      ]
     },
     "execution_count": 35,
     "metadata": {},
     "output_type": "execute_result"
    }
   ],
   "source": [
    "x1"
   ]
  },
  {
   "cell_type": "code",
   "execution_count": 36,
   "id": "1d772955",
   "metadata": {},
   "outputs": [
    {
     "data": {
      "text/plain": [
       "array([1, 2, 3, 4, 5, 6, 1, 2, 3, 4, 5, 6])"
      ]
     },
     "execution_count": 36,
     "metadata": {},
     "output_type": "execute_result"
    }
   ],
   "source": [
    "np.concatenate((x1,x1)) # default axis=0 "
   ]
  },
  {
   "cell_type": "code",
   "execution_count": 37,
   "id": "c7d5738a",
   "metadata": {},
   "outputs": [
    {
     "data": {
      "text/plain": [
       "array([[3, 5, 9, 4],\n",
       "       [4, 6, 4, 4],\n",
       "       [3, 4, 4, 8]])"
      ]
     },
     "execution_count": 37,
     "metadata": {},
     "output_type": "execute_result"
    }
   ],
   "source": [
    "x2"
   ]
  },
  {
   "cell_type": "code",
   "execution_count": 38,
   "id": "b48646d2",
   "metadata": {},
   "outputs": [],
   "source": [
    "x=np.array([1,2,3,4])"
   ]
  },
  {
   "cell_type": "code",
   "execution_count": 39,
   "id": "981985b8",
   "metadata": {},
   "outputs": [
    {
     "data": {
      "text/plain": [
       "array([[1, 2, 3, 4],\n",
       "       [3, 5, 9, 4],\n",
       "       [4, 6, 4, 4],\n",
       "       [3, 4, 4, 8]])"
      ]
     },
     "execution_count": 39,
     "metadata": {},
     "output_type": "execute_result"
    }
   ],
   "source": [
    "np.vstack((x,x2))"
   ]
  },
  {
   "cell_type": "code",
   "execution_count": 40,
   "id": "3e7ec713",
   "metadata": {},
   "outputs": [
    {
     "data": {
      "text/plain": [
       "array([[1, 3, 5, 9, 4],\n",
       "       [2, 4, 6, 4, 4],\n",
       "       [3, 3, 4, 4, 8]])"
      ]
     },
     "execution_count": 40,
     "metadata": {},
     "output_type": "execute_result"
    }
   ],
   "source": [
    "np.hstack((([1],[2],[3]),x2))"
   ]
  },
  {
   "cell_type": "markdown",
   "id": "a9a3a0f8",
   "metadata": {},
   "source": [
    "Splitting of array"
   ]
  },
  {
   "cell_type": "code",
   "execution_count": 41,
   "id": "e9e73efc",
   "metadata": {},
   "outputs": [],
   "source": [
    "x=np.array([1,2,3,99,69,3,2,1])"
   ]
  },
  {
   "cell_type": "code",
   "execution_count": 42,
   "id": "0fdb8f20",
   "metadata": {},
   "outputs": [],
   "source": [
    "x1,x2,x3=np.split(x,[2,4])"
   ]
  },
  {
   "cell_type": "code",
   "execution_count": 43,
   "id": "d2c7141f",
   "metadata": {},
   "outputs": [
    {
     "data": {
      "text/plain": [
       "array([1, 2])"
      ]
     },
     "execution_count": 43,
     "metadata": {},
     "output_type": "execute_result"
    }
   ],
   "source": [
    "x1"
   ]
  },
  {
   "cell_type": "code",
   "execution_count": 44,
   "id": "86881719",
   "metadata": {},
   "outputs": [
    {
     "data": {
      "text/plain": [
       "array([ 3, 99])"
      ]
     },
     "execution_count": 44,
     "metadata": {},
     "output_type": "execute_result"
    }
   ],
   "source": [
    "x2"
   ]
  },
  {
   "cell_type": "code",
   "execution_count": 45,
   "id": "7a468977",
   "metadata": {},
   "outputs": [
    {
     "data": {
      "text/plain": [
       "array([69,  3,  2,  1])"
      ]
     },
     "execution_count": 45,
     "metadata": {},
     "output_type": "execute_result"
    }
   ],
   "source": [
    "x3"
   ]
  },
  {
   "cell_type": "markdown",
   "id": "8b4e8057",
   "metadata": {},
   "source": [
    "# Broadcasting and Vectorized operations"
   ]
  },
  {
   "cell_type": "code",
   "execution_count": 46,
   "id": "23004e5f",
   "metadata": {},
   "outputs": [],
   "source": [
    "a=np.array([0,1,2])"
   ]
  },
  {
   "cell_type": "code",
   "execution_count": 47,
   "id": "b791c3d7",
   "metadata": {},
   "outputs": [
    {
     "data": {
      "text/plain": [
       "array([5, 6, 7])"
      ]
     },
     "execution_count": 47,
     "metadata": {},
     "output_type": "execute_result"
    }
   ],
   "source": [
    "a+5 # broadcasting"
   ]
  },
  {
   "cell_type": "code",
   "execution_count": 48,
   "id": "3a1422b5",
   "metadata": {},
   "outputs": [
    {
     "data": {
      "text/plain": [
       "array([[1., 1., 1.],\n",
       "       [1., 1., 1.],\n",
       "       [1., 1., 1.]])"
      ]
     },
     "execution_count": 48,
     "metadata": {},
     "output_type": "execute_result"
    }
   ],
   "source": [
    "b=np.ones([3,3])\n",
    "b"
   ]
  },
  {
   "cell_type": "code",
   "execution_count": 49,
   "id": "b095c4c3",
   "metadata": {},
   "outputs": [
    {
     "data": {
      "text/plain": [
       "array([[1., 2., 3.],\n",
       "       [1., 2., 3.],\n",
       "       [1., 2., 3.]])"
      ]
     },
     "execution_count": 49,
     "metadata": {},
     "output_type": "execute_result"
    }
   ],
   "source": [
    "a+b"
   ]
  },
  {
   "cell_type": "code",
   "execution_count": 50,
   "id": "c4929b7a",
   "metadata": {},
   "outputs": [
    {
     "data": {
      "text/plain": [
       "array([[0., 1., 2.],\n",
       "       [0., 1., 2.],\n",
       "       [0., 1., 2.]])"
      ]
     },
     "execution_count": 50,
     "metadata": {},
     "output_type": "execute_result"
    }
   ],
   "source": [
    "a*b"
   ]
  },
  {
   "cell_type": "markdown",
   "id": "01ba7645",
   "metadata": {},
   "source": [
    "# Manipulating & Comparing arrays\n",
    "Aggreration"
   ]
  },
  {
   "cell_type": "code",
   "execution_count": 51,
   "id": "cc1af5e9",
   "metadata": {},
   "outputs": [],
   "source": [
    "list_number=[1,2,3]"
   ]
  },
  {
   "cell_type": "code",
   "execution_count": 52,
   "id": "a23b6ae6",
   "metadata": {},
   "outputs": [],
   "source": [
    "ll=np.array(list_number)"
   ]
  },
  {
   "cell_type": "code",
   "execution_count": 53,
   "id": "23781187",
   "metadata": {},
   "outputs": [
    {
     "data": {
      "text/plain": [
       "array([1, 2, 3])"
      ]
     },
     "execution_count": 53,
     "metadata": {},
     "output_type": "execute_result"
    }
   ],
   "source": [
    "ll"
   ]
  },
  {
   "cell_type": "code",
   "execution_count": 54,
   "id": "f739ef39",
   "metadata": {},
   "outputs": [
    {
     "data": {
      "text/plain": [
       "6"
      ]
     },
     "execution_count": 54,
     "metadata": {},
     "output_type": "execute_result"
    }
   ],
   "source": [
    "sum(ll) # python sum"
   ]
  },
  {
   "cell_type": "code",
   "execution_count": 55,
   "id": "1ff9e421",
   "metadata": {},
   "outputs": [
    {
     "data": {
      "text/plain": [
       "6"
      ]
     },
     "execution_count": 55,
     "metadata": {},
     "output_type": "execute_result"
    }
   ],
   "source": [
    "np.sum(ll) # numpy sum"
   ]
  },
  {
   "cell_type": "code",
   "execution_count": 56,
   "id": "3a17d46c",
   "metadata": {},
   "outputs": [
    {
     "data": {
      "text/plain": [
       "array([0.41436859, 0.4746975 , 0.6235101 , 0.33800761, 0.67475232])"
      ]
     },
     "execution_count": 56,
     "metadata": {},
     "output_type": "execute_result"
    }
   ],
   "source": [
    "# Create a massive Numpy array \n",
    "massive_array=np.random.random(10000)\n",
    "massive_array[0:5]"
   ]
  },
  {
   "cell_type": "code",
   "execution_count": null,
   "id": "debc9327",
   "metadata": {},
   "outputs": [
    {
     "name": "stdout",
     "output_type": "stream",
     "text": [
      "642 µs ± 20.4 µs per loop (mean ± std. dev. of 7 runs, 1,000 loops each)\n",
      "5.18 µs ± 22.5 ns per loop (mean ± std. dev. of 7 runs, 100,000 loops each)\n"
     ]
    }
   ],
   "source": [
    "%timeit sum(massive_array)\n",
    "%timeit np.sum(massive_array)"
   ]
  },
  {
   "cell_type": "markdown",
   "id": "7d7087be",
   "metadata": {},
   "source": [
    "Tổng (Sum):\n",
    "np.sum(arr): Tính tổng của tất cả các phần tử trong mảng arr.\n",
    "\n",
    "Trung bình (Mean):\n",
    "np.mean(arr): Tính giá trị trung bình của tất cả các phần tử trong mảng arr.\n",
    "\n",
    "Trung vị (Median):\n",
    "np.median(arr): Tính giá trị trung vị của tất cả các phần tử trong mảng arr.\n",
    "\n",
    "Tối thiểu (Minimum):\n",
    "np.min(arr): Tìm giá trị nhỏ nhất trong mảng arr.\n",
    "\n",
    "Tối đa (Maximum):\n",
    "np.max(arr): Tìm giá trị lớn nhất trong mảng arr.\n",
    "\n",
    "Phương sai (Variance):\n",
    "np.var(arr): Tính phương sai của tất cả các phần tử trong mảng arr.\n",
    "\n",
    "Độ lệch chuẩn (Standard Deviation):\n",
    "np.std(arr): Tính độ lệch chuẩn của tất cả các phần tử trong mảng arr.\n",
    "\n",
    "Tổng tích lũy (Cumulative Sum):\n",
    "np.cumsum(arr): Tính tổng tích lũy của các phần tử trong mảng arr, tức là mảng mới chứa tổng của các phần tử từ đầu đến phần tử tương ứng trong mảng gốc.\n",
    "\n",
    "Tổng tích lũy theo trục (Cumulative Sum along Axis):\n",
    "np.cumsum(arr, axis=0): Tính tổng tích lũy theo trục (axis) cho mảng arr. Điều này hữu ích khi bạn làm việc với các mảng nhiều chiều.\n",
    "\n",
    "Tổng hợp theo trục (Aggregation along Axis):\n",
    "Các hàm tổng hợp như sum, mean, min, và max có thể áp dụng theo một trục cụ thể bằng cách sử dụng đối số axis. Ví dụ: np.sum(arr, axis=0) sẽ tính tổng theo chiều dọc (cột) của mảng arr."
   ]
  },
  {
   "cell_type": "markdown",
   "id": "0c99d0f0",
   "metadata": {},
   "source": [
    "# Sorting Arrays"
   ]
  },
  {
   "cell_type": "code",
   "execution_count": null,
   "id": "4452a5cf",
   "metadata": {},
   "outputs": [],
   "source": [
    "x=np.array([2,3,5,1,0])"
   ]
  },
  {
   "cell_type": "code",
   "execution_count": null,
   "id": "2e574685",
   "metadata": {},
   "outputs": [],
   "source": [
    "np.sort(x)"
   ]
  },
  {
   "cell_type": "code",
   "execution_count": null,
   "id": "fce48f39",
   "metadata": {},
   "outputs": [],
   "source": [
    "np.argsort(x) # trả về giá trị vị trí xếp từ lớn đến nhỏ theo giá trị"
   ]
  },
  {
   "cell_type": "markdown",
   "id": "68c4305e",
   "metadata": {},
   "source": [
    "# Sorting along rows or columns"
   ]
  },
  {
   "cell_type": "code",
   "execution_count": null,
   "id": "5ce5dd6c",
   "metadata": {},
   "outputs": [],
   "source": [
    "np.random.seed(42)\n",
    "matA=np.random.randint(0,10,size=(4,6))"
   ]
  },
  {
   "cell_type": "code",
   "execution_count": null,
   "id": "ea899b13",
   "metadata": {},
   "outputs": [],
   "source": [
    "matA"
   ]
  },
  {
   "cell_type": "code",
   "execution_count": null,
   "id": "b7833487",
   "metadata": {},
   "outputs": [],
   "source": [
    "np.sort(matA,axis=0) # xếp theo cột"
   ]
  },
  {
   "cell_type": "code",
   "execution_count": null,
   "id": "c9047d7b",
   "metadata": {},
   "outputs": [],
   "source": [
    "np.sort(matA,axis=1) # xếp theo hàng "
   ]
  },
  {
   "cell_type": "markdown",
   "id": "c2dfd3c3",
   "metadata": {},
   "source": [
    "# Linear Algebra"
   ]
  },
  {
   "cell_type": "code",
   "execution_count": null,
   "id": "514a4801",
   "metadata": {},
   "outputs": [],
   "source": [
    "A=np.array([[1,2,3],\n",
    "            [4,5,6],\n",
    "            [7,8,9]])"
   ]
  },
  {
   "cell_type": "code",
   "execution_count": null,
   "id": "507d9566",
   "metadata": {},
   "outputs": [],
   "source": [
    "B=np.array([[6,5],\n",
    "           [4,3],\n",
    "           [2,1]])"
   ]
  },
  {
   "cell_type": "code",
   "execution_count": null,
   "id": "6364348c",
   "metadata": {},
   "outputs": [],
   "source": [
    "A.dot(B) # or A@B"
   ]
  },
  {
   "cell_type": "code",
   "execution_count": null,
   "id": "eb8f927b",
   "metadata": {},
   "outputs": [],
   "source": []
  },
  {
   "cell_type": "code",
   "execution_count": null,
   "id": "f881e673",
   "metadata": {},
   "outputs": [],
   "source": []
  },
  {
   "cell_type": "code",
   "execution_count": null,
   "id": "12dcd6c7",
   "metadata": {},
   "outputs": [],
   "source": []
  }
 ],
 "metadata": {
  "kernelspec": {
   "display_name": "Python 3 (ipykernel)",
   "language": "python",
   "name": "python3"
  },
  "language_info": {
   "codemirror_mode": {
    "name": "ipython",
    "version": 3
   },
   "file_extension": ".py",
   "mimetype": "text/x-python",
   "name": "python",
   "nbconvert_exporter": "python",
   "pygments_lexer": "ipython3",
   "version": "3.11.4"
  }
 },
 "nbformat": 4,
 "nbformat_minor": 5
}
